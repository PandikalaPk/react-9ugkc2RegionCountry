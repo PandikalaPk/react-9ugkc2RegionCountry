{
  "nbformat": 4,
  "nbformat_minor": 0,
  "metadata": {
    "colab": {
      "provenance": []
    },
    "kernelspec": {
      "name": "python3",
      "display_name": "Python 3"
    },
    "language_info": {
      "name": "python"
    }
  },
  "cells": [
    {
      "cell_type": "code",
      "execution_count": 3,
      "metadata": {
        "id": "3Ned33bg4UPu",
        "outputId": "03c4c527-4958-43c7-b85e-3d74b0c05b7e",
        "colab": {
          "base_uri": "https://localhost:8080/"
        }
      },
      "outputs": [
        {
          "output_type": "stream",
          "name": "stdout",
          "text": [
            "fatal: destination path 'machine_learning' already exists and is not an empty directory.\n"
          ]
        }
      ],
      "source": [
        "!git clone https://github.com/deepanrajm/machine_learning.git"
      ]
    },
    {
      "cell_type": "code",
      "source": [
        "from pandas import read_csv\n",
        "import numpy as np\n",
        "import sklearn\n",
        "from sklearn.metrics import classification_report\n",
        "from sklearn.svm import SVC\n",
        "from sklearn.tree import DecisionTreeClassifier\n",
        "from sklearn.linear_model import LogisticRegression\n",
        "from sklearn.ensemble import RandomForestClassifier\n",
        "from sklearn.neighbors import KNeighborsClassifier\n",
        "from xgboost import XGBClassifier\n",
        "from sklearn.ensemble import  AdaBoostClassifier, BaggingClassifier\n",
        "from matplotlib import pyplot as plt\n",
        "from sklearn.model_selection import train_test_split\n",
        "from collections import Counter"
      ],
      "metadata": {
        "id": "WY7GTzRy4uk9"
      },
      "execution_count": 4,
      "outputs": []
    },
    {
      "cell_type": "markdown",
      "source": [
        "# Data 1"
      ],
      "metadata": {
        "id": "i-8rL-l3B43M"
      }
    },
    {
      "cell_type": "code",
      "source": [
        "dataframe = read_csv(\"machine_learning/Classification/material.csv\")\n",
        "dataframe.head()"
      ],
      "metadata": {
        "id": "QTjf7tSmB-Pr",
        "outputId": "2bb80cb2-05c9-4f6f-9a64-23fb77ad96eb",
        "colab": {
          "base_uri": "https://localhost:8080/",
          "height": 206
        }
      },
      "execution_count": 5,
      "outputs": [
        {
          "output_type": "execute_result",
          "data": {
            "text/plain": [
              "                         Material   Su   Sy       E      G   mu    Ro   Use\n",
              "0   ANSI Steel SAE 1015 as-rolled  421  314  207000  79000  0.3  7860  True\n",
              "1  ANSI Steel SAE 1015 normalized  424  324  207000  79000  0.3  7860  True\n",
              "2    ANSI Steel SAE 1015 annealed  386  284  207000  79000  0.3  7860  True\n",
              "3   ANSI Steel SAE 1020 as-rolled  448  331  207000  79000  0.3  7860  True\n",
              "4  ANSI Steel SAE 1020 normalized  441  346  207000  79000  0.3  7860  True"
            ],
            "text/html": [
              "\n",
              "  <div id=\"df-babfeae8-92c7-48a5-811f-21f3f7078846\" class=\"colab-df-container\">\n",
              "    <div>\n",
              "<style scoped>\n",
              "    .dataframe tbody tr th:only-of-type {\n",
              "        vertical-align: middle;\n",
              "    }\n",
              "\n",
              "    .dataframe tbody tr th {\n",
              "        vertical-align: top;\n",
              "    }\n",
              "\n",
              "    .dataframe thead th {\n",
              "        text-align: right;\n",
              "    }\n",
              "</style>\n",
              "<table border=\"1\" class=\"dataframe\">\n",
              "  <thead>\n",
              "    <tr style=\"text-align: right;\">\n",
              "      <th></th>\n",
              "      <th>Material</th>\n",
              "      <th>Su</th>\n",
              "      <th>Sy</th>\n",
              "      <th>E</th>\n",
              "      <th>G</th>\n",
              "      <th>mu</th>\n",
              "      <th>Ro</th>\n",
              "      <th>Use</th>\n",
              "    </tr>\n",
              "  </thead>\n",
              "  <tbody>\n",
              "    <tr>\n",
              "      <th>0</th>\n",
              "      <td>ANSI Steel SAE 1015 as-rolled</td>\n",
              "      <td>421</td>\n",
              "      <td>314</td>\n",
              "      <td>207000</td>\n",
              "      <td>79000</td>\n",
              "      <td>0.3</td>\n",
              "      <td>7860</td>\n",
              "      <td>True</td>\n",
              "    </tr>\n",
              "    <tr>\n",
              "      <th>1</th>\n",
              "      <td>ANSI Steel SAE 1015 normalized</td>\n",
              "      <td>424</td>\n",
              "      <td>324</td>\n",
              "      <td>207000</td>\n",
              "      <td>79000</td>\n",
              "      <td>0.3</td>\n",
              "      <td>7860</td>\n",
              "      <td>True</td>\n",
              "    </tr>\n",
              "    <tr>\n",
              "      <th>2</th>\n",
              "      <td>ANSI Steel SAE 1015 annealed</td>\n",
              "      <td>386</td>\n",
              "      <td>284</td>\n",
              "      <td>207000</td>\n",
              "      <td>79000</td>\n",
              "      <td>0.3</td>\n",
              "      <td>7860</td>\n",
              "      <td>True</td>\n",
              "    </tr>\n",
              "    <tr>\n",
              "      <th>3</th>\n",
              "      <td>ANSI Steel SAE 1020 as-rolled</td>\n",
              "      <td>448</td>\n",
              "      <td>331</td>\n",
              "      <td>207000</td>\n",
              "      <td>79000</td>\n",
              "      <td>0.3</td>\n",
              "      <td>7860</td>\n",
              "      <td>True</td>\n",
              "    </tr>\n",
              "    <tr>\n",
              "      <th>4</th>\n",
              "      <td>ANSI Steel SAE 1020 normalized</td>\n",
              "      <td>441</td>\n",
              "      <td>346</td>\n",
              "      <td>207000</td>\n",
              "      <td>79000</td>\n",
              "      <td>0.3</td>\n",
              "      <td>7860</td>\n",
              "      <td>True</td>\n",
              "    </tr>\n",
              "  </tbody>\n",
              "</table>\n",
              "</div>\n",
              "    <div class=\"colab-df-buttons\">\n",
              "\n",
              "  <div class=\"colab-df-container\">\n",
              "    <button class=\"colab-df-convert\" onclick=\"convertToInteractive('df-babfeae8-92c7-48a5-811f-21f3f7078846')\"\n",
              "            title=\"Convert this dataframe to an interactive table.\"\n",
              "            style=\"display:none;\">\n",
              "\n",
              "  <svg xmlns=\"http://www.w3.org/2000/svg\" height=\"24px\" viewBox=\"0 -960 960 960\">\n",
              "    <path d=\"M120-120v-720h720v720H120Zm60-500h600v-160H180v160Zm220 220h160v-160H400v160Zm0 220h160v-160H400v160ZM180-400h160v-160H180v160Zm440 0h160v-160H620v160ZM180-180h160v-160H180v160Zm440 0h160v-160H620v160Z\"/>\n",
              "  </svg>\n",
              "    </button>\n",
              "\n",
              "  <style>\n",
              "    .colab-df-container {\n",
              "      display:flex;\n",
              "      gap: 12px;\n",
              "    }\n",
              "\n",
              "    .colab-df-convert {\n",
              "      background-color: #E8F0FE;\n",
              "      border: none;\n",
              "      border-radius: 50%;\n",
              "      cursor: pointer;\n",
              "      display: none;\n",
              "      fill: #1967D2;\n",
              "      height: 32px;\n",
              "      padding: 0 0 0 0;\n",
              "      width: 32px;\n",
              "    }\n",
              "\n",
              "    .colab-df-convert:hover {\n",
              "      background-color: #E2EBFA;\n",
              "      box-shadow: 0px 1px 2px rgba(60, 64, 67, 0.3), 0px 1px 3px 1px rgba(60, 64, 67, 0.15);\n",
              "      fill: #174EA6;\n",
              "    }\n",
              "\n",
              "    .colab-df-buttons div {\n",
              "      margin-bottom: 4px;\n",
              "    }\n",
              "\n",
              "    [theme=dark] .colab-df-convert {\n",
              "      background-color: #3B4455;\n",
              "      fill: #D2E3FC;\n",
              "    }\n",
              "\n",
              "    [theme=dark] .colab-df-convert:hover {\n",
              "      background-color: #434B5C;\n",
              "      box-shadow: 0px 1px 3px 1px rgba(0, 0, 0, 0.15);\n",
              "      filter: drop-shadow(0px 1px 2px rgba(0, 0, 0, 0.3));\n",
              "      fill: #FFFFFF;\n",
              "    }\n",
              "  </style>\n",
              "\n",
              "    <script>\n",
              "      const buttonEl =\n",
              "        document.querySelector('#df-babfeae8-92c7-48a5-811f-21f3f7078846 button.colab-df-convert');\n",
              "      buttonEl.style.display =\n",
              "        google.colab.kernel.accessAllowed ? 'block' : 'none';\n",
              "\n",
              "      async function convertToInteractive(key) {\n",
              "        const element = document.querySelector('#df-babfeae8-92c7-48a5-811f-21f3f7078846');\n",
              "        const dataTable =\n",
              "          await google.colab.kernel.invokeFunction('convertToInteractive',\n",
              "                                                    [key], {});\n",
              "        if (!dataTable) return;\n",
              "\n",
              "        const docLinkHtml = 'Like what you see? Visit the ' +\n",
              "          '<a target=\"_blank\" href=https://colab.research.google.com/notebooks/data_table.ipynb>data table notebook</a>'\n",
              "          + ' to learn more about interactive tables.';\n",
              "        element.innerHTML = '';\n",
              "        dataTable['output_type'] = 'display_data';\n",
              "        await google.colab.output.renderOutput(dataTable, element);\n",
              "        const docLink = document.createElement('div');\n",
              "        docLink.innerHTML = docLinkHtml;\n",
              "        element.appendChild(docLink);\n",
              "      }\n",
              "    </script>\n",
              "  </div>\n",
              "\n",
              "\n",
              "<div id=\"df-b41885fc-0d21-4fa8-8798-c77a5e32a10c\">\n",
              "  <button class=\"colab-df-quickchart\" onclick=\"quickchart('df-b41885fc-0d21-4fa8-8798-c77a5e32a10c')\"\n",
              "            title=\"Suggest charts\"\n",
              "            style=\"display:none;\">\n",
              "\n",
              "<svg xmlns=\"http://www.w3.org/2000/svg\" height=\"24px\"viewBox=\"0 0 24 24\"\n",
              "     width=\"24px\">\n",
              "    <g>\n",
              "        <path d=\"M19 3H5c-1.1 0-2 .9-2 2v14c0 1.1.9 2 2 2h14c1.1 0 2-.9 2-2V5c0-1.1-.9-2-2-2zM9 17H7v-7h2v7zm4 0h-2V7h2v10zm4 0h-2v-4h2v4z\"/>\n",
              "    </g>\n",
              "</svg>\n",
              "  </button>\n",
              "\n",
              "<style>\n",
              "  .colab-df-quickchart {\n",
              "      --bg-color: #E8F0FE;\n",
              "      --fill-color: #1967D2;\n",
              "      --hover-bg-color: #E2EBFA;\n",
              "      --hover-fill-color: #174EA6;\n",
              "      --disabled-fill-color: #AAA;\n",
              "      --disabled-bg-color: #DDD;\n",
              "  }\n",
              "\n",
              "  [theme=dark] .colab-df-quickchart {\n",
              "      --bg-color: #3B4455;\n",
              "      --fill-color: #D2E3FC;\n",
              "      --hover-bg-color: #434B5C;\n",
              "      --hover-fill-color: #FFFFFF;\n",
              "      --disabled-bg-color: #3B4455;\n",
              "      --disabled-fill-color: #666;\n",
              "  }\n",
              "\n",
              "  .colab-df-quickchart {\n",
              "    background-color: var(--bg-color);\n",
              "    border: none;\n",
              "    border-radius: 50%;\n",
              "    cursor: pointer;\n",
              "    display: none;\n",
              "    fill: var(--fill-color);\n",
              "    height: 32px;\n",
              "    padding: 0;\n",
              "    width: 32px;\n",
              "  }\n",
              "\n",
              "  .colab-df-quickchart:hover {\n",
              "    background-color: var(--hover-bg-color);\n",
              "    box-shadow: 0 1px 2px rgba(60, 64, 67, 0.3), 0 1px 3px 1px rgba(60, 64, 67, 0.15);\n",
              "    fill: var(--button-hover-fill-color);\n",
              "  }\n",
              "\n",
              "  .colab-df-quickchart-complete:disabled,\n",
              "  .colab-df-quickchart-complete:disabled:hover {\n",
              "    background-color: var(--disabled-bg-color);\n",
              "    fill: var(--disabled-fill-color);\n",
              "    box-shadow: none;\n",
              "  }\n",
              "\n",
              "  .colab-df-spinner {\n",
              "    border: 2px solid var(--fill-color);\n",
              "    border-color: transparent;\n",
              "    border-bottom-color: var(--fill-color);\n",
              "    animation:\n",
              "      spin 1s steps(1) infinite;\n",
              "  }\n",
              "\n",
              "  @keyframes spin {\n",
              "    0% {\n",
              "      border-color: transparent;\n",
              "      border-bottom-color: var(--fill-color);\n",
              "      border-left-color: var(--fill-color);\n",
              "    }\n",
              "    20% {\n",
              "      border-color: transparent;\n",
              "      border-left-color: var(--fill-color);\n",
              "      border-top-color: var(--fill-color);\n",
              "    }\n",
              "    30% {\n",
              "      border-color: transparent;\n",
              "      border-left-color: var(--fill-color);\n",
              "      border-top-color: var(--fill-color);\n",
              "      border-right-color: var(--fill-color);\n",
              "    }\n",
              "    40% {\n",
              "      border-color: transparent;\n",
              "      border-right-color: var(--fill-color);\n",
              "      border-top-color: var(--fill-color);\n",
              "    }\n",
              "    60% {\n",
              "      border-color: transparent;\n",
              "      border-right-color: var(--fill-color);\n",
              "    }\n",
              "    80% {\n",
              "      border-color: transparent;\n",
              "      border-right-color: var(--fill-color);\n",
              "      border-bottom-color: var(--fill-color);\n",
              "    }\n",
              "    90% {\n",
              "      border-color: transparent;\n",
              "      border-bottom-color: var(--fill-color);\n",
              "    }\n",
              "  }\n",
              "</style>\n",
              "\n",
              "  <script>\n",
              "    async function quickchart(key) {\n",
              "      const quickchartButtonEl =\n",
              "        document.querySelector('#' + key + ' button');\n",
              "      quickchartButtonEl.disabled = true;  // To prevent multiple clicks.\n",
              "      quickchartButtonEl.classList.add('colab-df-spinner');\n",
              "      try {\n",
              "        const charts = await google.colab.kernel.invokeFunction(\n",
              "            'suggestCharts', [key], {});\n",
              "      } catch (error) {\n",
              "        console.error('Error during call to suggestCharts:', error);\n",
              "      }\n",
              "      quickchartButtonEl.classList.remove('colab-df-spinner');\n",
              "      quickchartButtonEl.classList.add('colab-df-quickchart-complete');\n",
              "    }\n",
              "    (() => {\n",
              "      let quickchartButtonEl =\n",
              "        document.querySelector('#df-b41885fc-0d21-4fa8-8798-c77a5e32a10c button');\n",
              "      quickchartButtonEl.style.display =\n",
              "        google.colab.kernel.accessAllowed ? 'block' : 'none';\n",
              "    })();\n",
              "  </script>\n",
              "</div>\n",
              "\n",
              "    </div>\n",
              "  </div>\n"
            ],
            "application/vnd.google.colaboratory.intrinsic+json": {
              "type": "dataframe",
              "variable_name": "dataframe",
              "summary": "{\n  \"name\": \"dataframe\",\n  \"rows\": 1552,\n  \"fields\": [\n    {\n      \"column\": \"Material\",\n      \"properties\": {\n        \"dtype\": \"string\",\n        \"num_unique_values\": 1460,\n        \"samples\": [\n          \"CSN CSN 11448 \",\n          \"GOST Steel 45 GOST 1050-88 Quenched and tempered\",\n          \"ANSI Aluminum Alloy Alclad 2024-O Wrought\"\n        ],\n        \"semantic_type\": \"\",\n        \"description\": \"\"\n      }\n    },\n    {\n      \"column\": \"Su\",\n      \"properties\": {\n        \"dtype\": \"number\",\n        \"std\": 326,\n        \"min\": 69,\n        \"max\": 2220,\n        \"num_unique_values\": 309,\n        \"samples\": [\n          638,\n          552,\n          655\n        ],\n        \"semantic_type\": \"\",\n        \"description\": \"\"\n      }\n    },\n    {\n      \"column\": \"Sy\",\n      \"properties\": {\n        \"dtype\": \"number\",\n        \"std\": 289,\n        \"min\": 28,\n        \"max\": 2048,\n        \"num_unique_values\": 286,\n        \"samples\": [\n          341,\n          1422,\n          214\n        ],\n        \"semantic_type\": \"\",\n        \"description\": \"\"\n      }\n    },\n    {\n      \"column\": \"E\",\n      \"properties\": {\n        \"dtype\": \"number\",\n        \"std\": 56135,\n        \"min\": 73000,\n        \"max\": 219000,\n        \"num_unique_values\": 43,\n        \"samples\": [\n          90000,\n          212000,\n          198000\n        ],\n        \"semantic_type\": \"\",\n        \"description\": \"\"\n      }\n    },\n    {\n      \"column\": \"G\",\n      \"properties\": {\n        \"dtype\": \"number\",\n        \"std\": 125326,\n        \"min\": 26000,\n        \"max\": 769000,\n        \"num_unique_values\": 33,\n        \"samples\": [\n          38000,\n          80000,\n          81000\n        ],\n        \"semantic_type\": \"\",\n        \"description\": \"\"\n      }\n    },\n    {\n      \"column\": \"mu\",\n      \"properties\": {\n        \"dtype\": \"number\",\n        \"std\": 0.024590091006833258,\n        \"min\": 0.2,\n        \"max\": 0.35,\n        \"num_unique_values\": 11,\n        \"samples\": [\n          0.34,\n          0.3,\n          0.29\n        ],\n        \"semantic_type\": \"\",\n        \"description\": \"\"\n      }\n    },\n    {\n      \"column\": \"Ro\",\n      \"properties\": {\n        \"dtype\": \"number\",\n        \"std\": 2115,\n        \"min\": 1750,\n        \"max\": 8930,\n        \"num_unique_values\": 35,\n        \"samples\": [\n          7670,\n          7826,\n          8120\n        ],\n        \"semantic_type\": \"\",\n        \"description\": \"\"\n      }\n    },\n    {\n      \"column\": \"Use\",\n      \"properties\": {\n        \"dtype\": \"boolean\",\n        \"num_unique_values\": 2,\n        \"samples\": [\n          false,\n          true\n        ],\n        \"semantic_type\": \"\",\n        \"description\": \"\"\n      }\n    }\n  ]\n}"
            }
          },
          "metadata": {},
          "execution_count": 5
        }
      ]
    },
    {
      "cell_type": "code",
      "source": [
        "dataframe.info()"
      ],
      "metadata": {
        "id": "r--bHZtCB-P3",
        "outputId": "d7540556-f43e-4966-975c-b4785490d5f2",
        "colab": {
          "base_uri": "https://localhost:8080/"
        }
      },
      "execution_count": 6,
      "outputs": [
        {
          "output_type": "stream",
          "name": "stdout",
          "text": [
            "<class 'pandas.core.frame.DataFrame'>\n",
            "RangeIndex: 1552 entries, 0 to 1551\n",
            "Data columns (total 8 columns):\n",
            " #   Column    Non-Null Count  Dtype  \n",
            "---  ------    --------------  -----  \n",
            " 0   Material  1552 non-null   object \n",
            " 1   Su        1552 non-null   int64  \n",
            " 2   Sy        1552 non-null   int64  \n",
            " 3   E         1552 non-null   int64  \n",
            " 4   G         1552 non-null   int64  \n",
            " 5   mu        1552 non-null   float64\n",
            " 6   Ro        1552 non-null   int64  \n",
            " 7   Use       1552 non-null   bool   \n",
            "dtypes: bool(1), float64(1), int64(5), object(1)\n",
            "memory usage: 86.5+ KB\n"
          ]
        }
      ]
    },
    {
      "cell_type": "code",
      "source": [
        "dataframe.isnull().any().any()\n",
        "dataframe.isnull().sum().sum()"
      ],
      "metadata": {
        "id": "cg0mWn01B-P3",
        "outputId": "b484239a-67b6-420a-8d1a-c5cda7f96df8",
        "colab": {
          "base_uri": "https://localhost:8080/"
        }
      },
      "execution_count": 7,
      "outputs": [
        {
          "output_type": "execute_result",
          "data": {
            "text/plain": [
              "0"
            ]
          },
          "metadata": {},
          "execution_count": 7
        }
      ]
    },
    {
      "cell_type": "code",
      "source": [
        "dataset = dataframe.values\n",
        "data = dataset[:,1:7].astype(float)\n",
        "labels = dataset[:,7]"
      ],
      "metadata": {
        "id": "e7alHI_NB-P3"
      },
      "execution_count": 8,
      "outputs": []
    },
    {
      "cell_type": "code",
      "source": [
        "labels = labels.astype(int)"
      ],
      "metadata": {
        "id": "3kVIAIhhCYUv"
      },
      "execution_count": 9,
      "outputs": []
    },
    {
      "cell_type": "code",
      "source": [
        "(trainData, testData, trainLabels, testLabels) = train_test_split(np.array(data),\n",
        "\tnp.array(labels), test_size=0.25, random_state=42)"
      ],
      "metadata": {
        "id": "jJR957T7B-P4"
      },
      "execution_count": 10,
      "outputs": []
    },
    {
      "cell_type": "code",
      "source": [
        "model = SVC(kernel=\"linear\",C=1)\n",
        "model.fit(trainData, trainLabels)"
      ],
      "metadata": {
        "id": "c_S6TSfgB-P4",
        "outputId": "a5e164e6-a9e4-4e1c-ecff-48a47b008bdd",
        "colab": {
          "base_uri": "https://localhost:8080/",
          "height": 74
        }
      },
      "execution_count": 11,
      "outputs": [
        {
          "output_type": "execute_result",
          "data": {
            "text/plain": [
              "SVC(C=1, kernel='linear')"
            ],
            "text/html": [
              "<style>#sk-container-id-1 {color: black;background-color: white;}#sk-container-id-1 pre{padding: 0;}#sk-container-id-1 div.sk-toggleable {background-color: white;}#sk-container-id-1 label.sk-toggleable__label {cursor: pointer;display: block;width: 100%;margin-bottom: 0;padding: 0.3em;box-sizing: border-box;text-align: center;}#sk-container-id-1 label.sk-toggleable__label-arrow:before {content: \"▸\";float: left;margin-right: 0.25em;color: #696969;}#sk-container-id-1 label.sk-toggleable__label-arrow:hover:before {color: black;}#sk-container-id-1 div.sk-estimator:hover label.sk-toggleable__label-arrow:before {color: black;}#sk-container-id-1 div.sk-toggleable__content {max-height: 0;max-width: 0;overflow: hidden;text-align: left;background-color: #f0f8ff;}#sk-container-id-1 div.sk-toggleable__content pre {margin: 0.2em;color: black;border-radius: 0.25em;background-color: #f0f8ff;}#sk-container-id-1 input.sk-toggleable__control:checked~div.sk-toggleable__content {max-height: 200px;max-width: 100%;overflow: auto;}#sk-container-id-1 input.sk-toggleable__control:checked~label.sk-toggleable__label-arrow:before {content: \"▾\";}#sk-container-id-1 div.sk-estimator input.sk-toggleable__control:checked~label.sk-toggleable__label {background-color: #d4ebff;}#sk-container-id-1 div.sk-label input.sk-toggleable__control:checked~label.sk-toggleable__label {background-color: #d4ebff;}#sk-container-id-1 input.sk-hidden--visually {border: 0;clip: rect(1px 1px 1px 1px);clip: rect(1px, 1px, 1px, 1px);height: 1px;margin: -1px;overflow: hidden;padding: 0;position: absolute;width: 1px;}#sk-container-id-1 div.sk-estimator {font-family: monospace;background-color: #f0f8ff;border: 1px dotted black;border-radius: 0.25em;box-sizing: border-box;margin-bottom: 0.5em;}#sk-container-id-1 div.sk-estimator:hover {background-color: #d4ebff;}#sk-container-id-1 div.sk-parallel-item::after {content: \"\";width: 100%;border-bottom: 1px solid gray;flex-grow: 1;}#sk-container-id-1 div.sk-label:hover label.sk-toggleable__label {background-color: #d4ebff;}#sk-container-id-1 div.sk-serial::before {content: \"\";position: absolute;border-left: 1px solid gray;box-sizing: border-box;top: 0;bottom: 0;left: 50%;z-index: 0;}#sk-container-id-1 div.sk-serial {display: flex;flex-direction: column;align-items: center;background-color: white;padding-right: 0.2em;padding-left: 0.2em;position: relative;}#sk-container-id-1 div.sk-item {position: relative;z-index: 1;}#sk-container-id-1 div.sk-parallel {display: flex;align-items: stretch;justify-content: center;background-color: white;position: relative;}#sk-container-id-1 div.sk-item::before, #sk-container-id-1 div.sk-parallel-item::before {content: \"\";position: absolute;border-left: 1px solid gray;box-sizing: border-box;top: 0;bottom: 0;left: 50%;z-index: -1;}#sk-container-id-1 div.sk-parallel-item {display: flex;flex-direction: column;z-index: 1;position: relative;background-color: white;}#sk-container-id-1 div.sk-parallel-item:first-child::after {align-self: flex-end;width: 50%;}#sk-container-id-1 div.sk-parallel-item:last-child::after {align-self: flex-start;width: 50%;}#sk-container-id-1 div.sk-parallel-item:only-child::after {width: 0;}#sk-container-id-1 div.sk-dashed-wrapped {border: 1px dashed gray;margin: 0 0.4em 0.5em 0.4em;box-sizing: border-box;padding-bottom: 0.4em;background-color: white;}#sk-container-id-1 div.sk-label label {font-family: monospace;font-weight: bold;display: inline-block;line-height: 1.2em;}#sk-container-id-1 div.sk-label-container {text-align: center;}#sk-container-id-1 div.sk-container {/* jupyter's `normalize.less` sets `[hidden] { display: none; }` but bootstrap.min.css set `[hidden] { display: none !important; }` so we also need the `!important` here to be able to override the default hidden behavior on the sphinx rendered scikit-learn.org. See: https://github.com/scikit-learn/scikit-learn/issues/21755 */display: inline-block !important;position: relative;}#sk-container-id-1 div.sk-text-repr-fallback {display: none;}</style><div id=\"sk-container-id-1\" class=\"sk-top-container\"><div class=\"sk-text-repr-fallback\"><pre>SVC(C=1, kernel=&#x27;linear&#x27;)</pre><b>In a Jupyter environment, please rerun this cell to show the HTML representation or trust the notebook. <br />On GitHub, the HTML representation is unable to render, please try loading this page with nbviewer.org.</b></div><div class=\"sk-container\" hidden><div class=\"sk-item\"><div class=\"sk-estimator sk-toggleable\"><input class=\"sk-toggleable__control sk-hidden--visually\" id=\"sk-estimator-id-1\" type=\"checkbox\" checked><label for=\"sk-estimator-id-1\" class=\"sk-toggleable__label sk-toggleable__label-arrow\">SVC</label><div class=\"sk-toggleable__content\"><pre>SVC(C=1, kernel=&#x27;linear&#x27;)</pre></div></div></div></div></div>"
            ]
          },
          "metadata": {},
          "execution_count": 11
        }
      ]
    },
    {
      "cell_type": "code",
      "source": [
        "print(model.score(trainData, trainLabels))"
      ],
      "metadata": {
        "id": "U_w8RKpDB-P4",
        "outputId": "4dd1efbc-e621-4251-efbf-51da6a2eb19b",
        "colab": {
          "base_uri": "https://localhost:8080/"
        }
      },
      "execution_count": 12,
      "outputs": [
        {
          "output_type": "stream",
          "name": "stdout",
          "text": [
            "0.8865979381443299\n"
          ]
        }
      ]
    },
    {
      "cell_type": "code",
      "source": [
        "print(model.score(testData, testLabels))"
      ],
      "metadata": {
        "id": "PP-97mnHB-P5",
        "outputId": "d4bea513-1fc9-4a00-dc2c-d0f3f4199660",
        "colab": {
          "base_uri": "https://localhost:8080/"
        }
      },
      "execution_count": 13,
      "outputs": [
        {
          "output_type": "stream",
          "name": "stdout",
          "text": [
            "0.8994845360824743\n"
          ]
        }
      ]
    },
    {
      "cell_type": "code",
      "source": [
        "predictions = model.predict(testData)\n",
        "\n",
        "print(classification_report(testLabels, predictions))"
      ],
      "metadata": {
        "id": "QlDPsNb7B-P5",
        "outputId": "d17c1431-d976-45f7-e14a-cf0900dc45b0",
        "colab": {
          "base_uri": "https://localhost:8080/"
        }
      },
      "execution_count": 14,
      "outputs": [
        {
          "output_type": "stream",
          "name": "stdout",
          "text": [
            "              precision    recall  f1-score   support\n",
            "\n",
            "           0       0.93      0.97      0.95       359\n",
            "           1       0.08      0.03      0.05        29\n",
            "\n",
            "    accuracy                           0.90       388\n",
            "   macro avg       0.50      0.50      0.50       388\n",
            "weighted avg       0.86      0.90      0.88       388\n",
            "\n"
          ]
        }
      ]
    },
    {
      "cell_type": "code",
      "source": [
        "#weights='distance'\n",
        "model = KNeighborsClassifier(n_neighbors=9,weights='uniform')\n",
        "model.fit(trainData, trainLabels)\n",
        "\n",
        "print(model.score(trainData, trainLabels))\n",
        "predictions = model.predict(testData)\n",
        "\n",
        "print(classification_report(testLabels, predictions))\n"
      ],
      "metadata": {
        "id": "RRVg0C1VB-P5",
        "outputId": "6ce65a99-6fb5-4dbf-8769-4e07efa8ccd0",
        "colab": {
          "base_uri": "https://localhost:8080/"
        }
      },
      "execution_count": 15,
      "outputs": [
        {
          "output_type": "stream",
          "name": "stdout",
          "text": [
            "0.979381443298969\n",
            "              precision    recall  f1-score   support\n",
            "\n",
            "           0       0.98      0.99      0.98       359\n",
            "           1       0.85      0.76      0.80        29\n",
            "\n",
            "    accuracy                           0.97       388\n",
            "   macro avg       0.91      0.87      0.89       388\n",
            "weighted avg       0.97      0.97      0.97       388\n",
            "\n"
          ]
        }
      ]
    },
    {
      "cell_type": "code",
      "source": [
        "#penality = l1,l2, elasticnet\n",
        "#solver = liblinear, sag, saga, lbfgs, newton-cg\n",
        "#max-iter = 100\n",
        "\n",
        "model = LogisticRegression(max_iter=150,solver = 'liblinear')\n",
        "model.fit(trainData, trainLabels)\n",
        "\n",
        "print(model.score(trainData, trainLabels))\n",
        "predictions = model.predict(testData)\n",
        "\n",
        "print(classification_report(testLabels, predictions))"
      ],
      "metadata": {
        "id": "A2I5A3W0B-P5",
        "outputId": "bf7b527c-e535-46d0-9f52-f229f5e40c4b",
        "colab": {
          "base_uri": "https://localhost:8080/"
        }
      },
      "execution_count": 16,
      "outputs": [
        {
          "output_type": "stream",
          "name": "stdout",
          "text": [
            "0.8625429553264605\n",
            "              precision    recall  f1-score   support\n",
            "\n",
            "           0       0.92      0.96      0.94       359\n",
            "           1       0.00      0.00      0.00        29\n",
            "\n",
            "    accuracy                           0.89       388\n",
            "   macro avg       0.46      0.48      0.47       388\n",
            "weighted avg       0.85      0.89      0.87       388\n",
            "\n"
          ]
        }
      ]
    },
    {
      "cell_type": "code",
      "source": [
        "\n",
        "#splitter = best, random | max_features = int, auto, log, none | max_depth = int\n",
        "model = DecisionTreeClassifier(random_state=42)#,criterion='gini',max_features=2, max_depth = 15)\n",
        "model.fit(trainData, trainLabels)\n",
        "\n",
        "print(model.score(trainData, trainLabels))\n",
        "predictions = model.predict(testData)\n",
        "\n",
        "print(classification_report(testLabels, predictions))"
      ],
      "metadata": {
        "id": "qhOtHcwqB-P5",
        "outputId": "05f58c82-26d5-4e19-e591-68a57b31b30d",
        "colab": {
          "base_uri": "https://localhost:8080/"
        }
      },
      "execution_count": 17,
      "outputs": [
        {
          "output_type": "stream",
          "name": "stdout",
          "text": [
            "1.0\n",
            "              precision    recall  f1-score   support\n",
            "\n",
            "           0       1.00      1.00      1.00       359\n",
            "           1       1.00      0.97      0.98        29\n",
            "\n",
            "    accuracy                           1.00       388\n",
            "   macro avg       1.00      0.98      0.99       388\n",
            "weighted avg       1.00      1.00      1.00       388\n",
            "\n"
          ]
        }
      ]
    },
    {
      "cell_type": "code",
      "source": [
        "#splitter = best, random | max_features = int, auto, log, none | max_depth = int\n",
        "model = RandomForestClassifier(n_estimators=30, random_state=42)#,criterion='gini',max_depth=10)\n",
        "model.fit(trainData, trainLabels)\n",
        "\n",
        "print(model.score(trainData, trainLabels))\n",
        "predictions = model.predict(testData)\n",
        "\n",
        "print(classification_report(testLabels, predictions))"
      ],
      "metadata": {
        "id": "87krOoGSB-P6",
        "outputId": "dab00710-4f7f-41bb-c9e1-9ab33c3496ab",
        "colab": {
          "base_uri": "https://localhost:8080/"
        }
      },
      "execution_count": 18,
      "outputs": [
        {
          "output_type": "stream",
          "name": "stdout",
          "text": [
            "1.0\n",
            "              precision    recall  f1-score   support\n",
            "\n",
            "           0       1.00      1.00      1.00       359\n",
            "           1       1.00      0.97      0.98        29\n",
            "\n",
            "    accuracy                           1.00       388\n",
            "   macro avg       1.00      0.98      0.99       388\n",
            "weighted avg       1.00      1.00      1.00       388\n",
            "\n"
          ]
        }
      ]
    },
    {
      "cell_type": "code",
      "source": [
        "model = BaggingClassifier(n_estimators=10)\n",
        "model.fit(trainData, trainLabels)\n",
        "\n",
        "print(model.score(trainData, trainLabels))\n",
        "predictions = model.predict(testData)\n",
        "\n",
        "print(classification_report(testLabels, predictions))"
      ],
      "metadata": {
        "id": "qpGgep1QDb5Z",
        "outputId": "a9c3a053-8498-40e1-fbb7-ca610ca41dc7",
        "colab": {
          "base_uri": "https://localhost:8080/"
        }
      },
      "execution_count": 19,
      "outputs": [
        {
          "output_type": "stream",
          "name": "stdout",
          "text": [
            "1.0\n",
            "              precision    recall  f1-score   support\n",
            "\n",
            "           0       1.00      1.00      1.00       359\n",
            "           1       1.00      0.97      0.98        29\n",
            "\n",
            "    accuracy                           1.00       388\n",
            "   macro avg       1.00      0.98      0.99       388\n",
            "weighted avg       1.00      1.00      1.00       388\n",
            "\n"
          ]
        }
      ]
    },
    {
      "cell_type": "code",
      "source": [
        "model = AdaBoostClassifier()\n",
        "model.fit(trainData, trainLabels)\n",
        "\n",
        "print(model.score(trainData, trainLabels))\n",
        "predictions = model.predict(testData)\n",
        "\n",
        "print(classification_report(testLabels, predictions))"
      ],
      "metadata": {
        "id": "l3raqz3bB-P6",
        "outputId": "36c3c00e-c919-4223-e224-c0b363572bd0",
        "colab": {
          "base_uri": "https://localhost:8080/"
        }
      },
      "execution_count": 20,
      "outputs": [
        {
          "output_type": "stream",
          "name": "stdout",
          "text": [
            "1.0\n",
            "              precision    recall  f1-score   support\n",
            "\n",
            "           0       1.00      1.00      1.00       359\n",
            "           1       1.00      0.97      0.98        29\n",
            "\n",
            "    accuracy                           1.00       388\n",
            "   macro avg       1.00      0.98      0.99       388\n",
            "weighted avg       1.00      1.00      1.00       388\n",
            "\n"
          ]
        }
      ]
    },
    {
      "cell_type": "code",
      "source": [
        "model = XGBClassifier()\n",
        "model.fit(trainData, trainLabels)\n",
        "\n",
        "print(model.score(trainData, trainLabels))\n",
        "predictions = model.predict(testData)\n",
        "\n",
        "print(classification_report(testLabels, predictions))\n"
      ],
      "metadata": {
        "id": "pavYJUMGB-P7",
        "outputId": "4be7e663-faea-45e4-c634-dd497de6d986",
        "colab": {
          "base_uri": "https://localhost:8080/"
        }
      },
      "execution_count": 21,
      "outputs": [
        {
          "output_type": "stream",
          "name": "stdout",
          "text": [
            "1.0\n",
            "              precision    recall  f1-score   support\n",
            "\n",
            "           0       1.00      1.00      1.00       359\n",
            "           1       1.00      1.00      1.00        29\n",
            "\n",
            "    accuracy                           1.00       388\n",
            "   macro avg       1.00      1.00      1.00       388\n",
            "weighted avg       1.00      1.00      1.00       388\n",
            "\n"
          ]
        }
      ]
    },
    {
      "cell_type": "markdown",
      "source": [
        "# Data 2"
      ],
      "metadata": {
        "id": "DBHyWsHCCG59"
      }
    },
    {
      "cell_type": "code",
      "source": [
        "dataframe = read_csv(\"machine_learning/Classification/Cleaned_Metalearning.csv\")\n",
        "dataframe.head()"
      ],
      "metadata": {
        "colab": {
          "base_uri": "https://localhost:8080/",
          "height": 206
        },
        "id": "XKIilQ344veB",
        "outputId": "b26b96d2-2c8a-4cce-c672-b72e8e188add"
      },
      "execution_count": 22,
      "outputs": [
        {
          "output_type": "execute_result",
          "data": {
            "text/plain": [
              "   Unnamed: 0  Atomic Radius(Atomic unit)  Expansion Coefficient  \\\n",
              "0         0.0                        1.20                  0.000   \n",
              "1         1.0                        1.32                  0.006   \n",
              "2         2.0                        1.33                  0.008   \n",
              "3         3.0                        1.34                  0.008   \n",
              "4         4.0                        1.32                  0.008   \n",
              "\n",
              "   Electron Affinity(-ive)  Conductivity  Yield Strength  Outcome  \n",
              "0                     73.0          1.20     1213.355372      2.0  \n",
              "1                     17.0         21.84      136.809524      1.0  \n",
              "2                     16.0         28.14      179.362319      1.0  \n",
              "3                     16.0         55.20       57.607167      1.0  \n",
              "4                     16.0         47.76       59.913043      1.0  "
            ],
            "text/html": [
              "\n",
              "  <div id=\"df-d07f6d7c-d43d-4c3b-8342-814204786272\" class=\"colab-df-container\">\n",
              "    <div>\n",
              "<style scoped>\n",
              "    .dataframe tbody tr th:only-of-type {\n",
              "        vertical-align: middle;\n",
              "    }\n",
              "\n",
              "    .dataframe tbody tr th {\n",
              "        vertical-align: top;\n",
              "    }\n",
              "\n",
              "    .dataframe thead th {\n",
              "        text-align: right;\n",
              "    }\n",
              "</style>\n",
              "<table border=\"1\" class=\"dataframe\">\n",
              "  <thead>\n",
              "    <tr style=\"text-align: right;\">\n",
              "      <th></th>\n",
              "      <th>Unnamed: 0</th>\n",
              "      <th>Atomic Radius(Atomic unit)</th>\n",
              "      <th>Expansion Coefficient</th>\n",
              "      <th>Electron Affinity(-ive)</th>\n",
              "      <th>Conductivity</th>\n",
              "      <th>Yield Strength</th>\n",
              "      <th>Outcome</th>\n",
              "    </tr>\n",
              "  </thead>\n",
              "  <tbody>\n",
              "    <tr>\n",
              "      <th>0</th>\n",
              "      <td>0.0</td>\n",
              "      <td>1.20</td>\n",
              "      <td>0.000</td>\n",
              "      <td>73.0</td>\n",
              "      <td>1.20</td>\n",
              "      <td>1213.355372</td>\n",
              "      <td>2.0</td>\n",
              "    </tr>\n",
              "    <tr>\n",
              "      <th>1</th>\n",
              "      <td>1.0</td>\n",
              "      <td>1.32</td>\n",
              "      <td>0.006</td>\n",
              "      <td>17.0</td>\n",
              "      <td>21.84</td>\n",
              "      <td>136.809524</td>\n",
              "      <td>1.0</td>\n",
              "    </tr>\n",
              "    <tr>\n",
              "      <th>2</th>\n",
              "      <td>2.0</td>\n",
              "      <td>1.33</td>\n",
              "      <td>0.008</td>\n",
              "      <td>16.0</td>\n",
              "      <td>28.14</td>\n",
              "      <td>179.362319</td>\n",
              "      <td>1.0</td>\n",
              "    </tr>\n",
              "    <tr>\n",
              "      <th>3</th>\n",
              "      <td>3.0</td>\n",
              "      <td>1.34</td>\n",
              "      <td>0.008</td>\n",
              "      <td>16.0</td>\n",
              "      <td>55.20</td>\n",
              "      <td>57.607167</td>\n",
              "      <td>1.0</td>\n",
              "    </tr>\n",
              "    <tr>\n",
              "      <th>4</th>\n",
              "      <td>4.0</td>\n",
              "      <td>1.32</td>\n",
              "      <td>0.008</td>\n",
              "      <td>16.0</td>\n",
              "      <td>47.76</td>\n",
              "      <td>59.913043</td>\n",
              "      <td>1.0</td>\n",
              "    </tr>\n",
              "  </tbody>\n",
              "</table>\n",
              "</div>\n",
              "    <div class=\"colab-df-buttons\">\n",
              "\n",
              "  <div class=\"colab-df-container\">\n",
              "    <button class=\"colab-df-convert\" onclick=\"convertToInteractive('df-d07f6d7c-d43d-4c3b-8342-814204786272')\"\n",
              "            title=\"Convert this dataframe to an interactive table.\"\n",
              "            style=\"display:none;\">\n",
              "\n",
              "  <svg xmlns=\"http://www.w3.org/2000/svg\" height=\"24px\" viewBox=\"0 -960 960 960\">\n",
              "    <path d=\"M120-120v-720h720v720H120Zm60-500h600v-160H180v160Zm220 220h160v-160H400v160Zm0 220h160v-160H400v160ZM180-400h160v-160H180v160Zm440 0h160v-160H620v160ZM180-180h160v-160H180v160Zm440 0h160v-160H620v160Z\"/>\n",
              "  </svg>\n",
              "    </button>\n",
              "\n",
              "  <style>\n",
              "    .colab-df-container {\n",
              "      display:flex;\n",
              "      gap: 12px;\n",
              "    }\n",
              "\n",
              "    .colab-df-convert {\n",
              "      background-color: #E8F0FE;\n",
              "      border: none;\n",
              "      border-radius: 50%;\n",
              "      cursor: pointer;\n",
              "      display: none;\n",
              "      fill: #1967D2;\n",
              "      height: 32px;\n",
              "      padding: 0 0 0 0;\n",
              "      width: 32px;\n",
              "    }\n",
              "\n",
              "    .colab-df-convert:hover {\n",
              "      background-color: #E2EBFA;\n",
              "      box-shadow: 0px 1px 2px rgba(60, 64, 67, 0.3), 0px 1px 3px 1px rgba(60, 64, 67, 0.15);\n",
              "      fill: #174EA6;\n",
              "    }\n",
              "\n",
              "    .colab-df-buttons div {\n",
              "      margin-bottom: 4px;\n",
              "    }\n",
              "\n",
              "    [theme=dark] .colab-df-convert {\n",
              "      background-color: #3B4455;\n",
              "      fill: #D2E3FC;\n",
              "    }\n",
              "\n",
              "    [theme=dark] .colab-df-convert:hover {\n",
              "      background-color: #434B5C;\n",
              "      box-shadow: 0px 1px 3px 1px rgba(0, 0, 0, 0.15);\n",
              "      filter: drop-shadow(0px 1px 2px rgba(0, 0, 0, 0.3));\n",
              "      fill: #FFFFFF;\n",
              "    }\n",
              "  </style>\n",
              "\n",
              "    <script>\n",
              "      const buttonEl =\n",
              "        document.querySelector('#df-d07f6d7c-d43d-4c3b-8342-814204786272 button.colab-df-convert');\n",
              "      buttonEl.style.display =\n",
              "        google.colab.kernel.accessAllowed ? 'block' : 'none';\n",
              "\n",
              "      async function convertToInteractive(key) {\n",
              "        const element = document.querySelector('#df-d07f6d7c-d43d-4c3b-8342-814204786272');\n",
              "        const dataTable =\n",
              "          await google.colab.kernel.invokeFunction('convertToInteractive',\n",
              "                                                    [key], {});\n",
              "        if (!dataTable) return;\n",
              "\n",
              "        const docLinkHtml = 'Like what you see? Visit the ' +\n",
              "          '<a target=\"_blank\" href=https://colab.research.google.com/notebooks/data_table.ipynb>data table notebook</a>'\n",
              "          + ' to learn more about interactive tables.';\n",
              "        element.innerHTML = '';\n",
              "        dataTable['output_type'] = 'display_data';\n",
              "        await google.colab.output.renderOutput(dataTable, element);\n",
              "        const docLink = document.createElement('div');\n",
              "        docLink.innerHTML = docLinkHtml;\n",
              "        element.appendChild(docLink);\n",
              "      }\n",
              "    </script>\n",
              "  </div>\n",
              "\n",
              "\n",
              "<div id=\"df-38b3b432-035c-4a3c-8d00-b97370cf24c0\">\n",
              "  <button class=\"colab-df-quickchart\" onclick=\"quickchart('df-38b3b432-035c-4a3c-8d00-b97370cf24c0')\"\n",
              "            title=\"Suggest charts\"\n",
              "            style=\"display:none;\">\n",
              "\n",
              "<svg xmlns=\"http://www.w3.org/2000/svg\" height=\"24px\"viewBox=\"0 0 24 24\"\n",
              "     width=\"24px\">\n",
              "    <g>\n",
              "        <path d=\"M19 3H5c-1.1 0-2 .9-2 2v14c0 1.1.9 2 2 2h14c1.1 0 2-.9 2-2V5c0-1.1-.9-2-2-2zM9 17H7v-7h2v7zm4 0h-2V7h2v10zm4 0h-2v-4h2v4z\"/>\n",
              "    </g>\n",
              "</svg>\n",
              "  </button>\n",
              "\n",
              "<style>\n",
              "  .colab-df-quickchart {\n",
              "      --bg-color: #E8F0FE;\n",
              "      --fill-color: #1967D2;\n",
              "      --hover-bg-color: #E2EBFA;\n",
              "      --hover-fill-color: #174EA6;\n",
              "      --disabled-fill-color: #AAA;\n",
              "      --disabled-bg-color: #DDD;\n",
              "  }\n",
              "\n",
              "  [theme=dark] .colab-df-quickchart {\n",
              "      --bg-color: #3B4455;\n",
              "      --fill-color: #D2E3FC;\n",
              "      --hover-bg-color: #434B5C;\n",
              "      --hover-fill-color: #FFFFFF;\n",
              "      --disabled-bg-color: #3B4455;\n",
              "      --disabled-fill-color: #666;\n",
              "  }\n",
              "\n",
              "  .colab-df-quickchart {\n",
              "    background-color: var(--bg-color);\n",
              "    border: none;\n",
              "    border-radius: 50%;\n",
              "    cursor: pointer;\n",
              "    display: none;\n",
              "    fill: var(--fill-color);\n",
              "    height: 32px;\n",
              "    padding: 0;\n",
              "    width: 32px;\n",
              "  }\n",
              "\n",
              "  .colab-df-quickchart:hover {\n",
              "    background-color: var(--hover-bg-color);\n",
              "    box-shadow: 0 1px 2px rgba(60, 64, 67, 0.3), 0 1px 3px 1px rgba(60, 64, 67, 0.15);\n",
              "    fill: var(--button-hover-fill-color);\n",
              "  }\n",
              "\n",
              "  .colab-df-quickchart-complete:disabled,\n",
              "  .colab-df-quickchart-complete:disabled:hover {\n",
              "    background-color: var(--disabled-bg-color);\n",
              "    fill: var(--disabled-fill-color);\n",
              "    box-shadow: none;\n",
              "  }\n",
              "\n",
              "  .colab-df-spinner {\n",
              "    border: 2px solid var(--fill-color);\n",
              "    border-color: transparent;\n",
              "    border-bottom-color: var(--fill-color);\n",
              "    animation:\n",
              "      spin 1s steps(1) infinite;\n",
              "  }\n",
              "\n",
              "  @keyframes spin {\n",
              "    0% {\n",
              "      border-color: transparent;\n",
              "      border-bottom-color: var(--fill-color);\n",
              "      border-left-color: var(--fill-color);\n",
              "    }\n",
              "    20% {\n",
              "      border-color: transparent;\n",
              "      border-left-color: var(--fill-color);\n",
              "      border-top-color: var(--fill-color);\n",
              "    }\n",
              "    30% {\n",
              "      border-color: transparent;\n",
              "      border-left-color: var(--fill-color);\n",
              "      border-top-color: var(--fill-color);\n",
              "      border-right-color: var(--fill-color);\n",
              "    }\n",
              "    40% {\n",
              "      border-color: transparent;\n",
              "      border-right-color: var(--fill-color);\n",
              "      border-top-color: var(--fill-color);\n",
              "    }\n",
              "    60% {\n",
              "      border-color: transparent;\n",
              "      border-right-color: var(--fill-color);\n",
              "    }\n",
              "    80% {\n",
              "      border-color: transparent;\n",
              "      border-right-color: var(--fill-color);\n",
              "      border-bottom-color: var(--fill-color);\n",
              "    }\n",
              "    90% {\n",
              "      border-color: transparent;\n",
              "      border-bottom-color: var(--fill-color);\n",
              "    }\n",
              "  }\n",
              "</style>\n",
              "\n",
              "  <script>\n",
              "    async function quickchart(key) {\n",
              "      const quickchartButtonEl =\n",
              "        document.querySelector('#' + key + ' button');\n",
              "      quickchartButtonEl.disabled = true;  // To prevent multiple clicks.\n",
              "      quickchartButtonEl.classList.add('colab-df-spinner');\n",
              "      try {\n",
              "        const charts = await google.colab.kernel.invokeFunction(\n",
              "            'suggestCharts', [key], {});\n",
              "      } catch (error) {\n",
              "        console.error('Error during call to suggestCharts:', error);\n",
              "      }\n",
              "      quickchartButtonEl.classList.remove('colab-df-spinner');\n",
              "      quickchartButtonEl.classList.add('colab-df-quickchart-complete');\n",
              "    }\n",
              "    (() => {\n",
              "      let quickchartButtonEl =\n",
              "        document.querySelector('#df-38b3b432-035c-4a3c-8d00-b97370cf24c0 button');\n",
              "      quickchartButtonEl.style.display =\n",
              "        google.colab.kernel.accessAllowed ? 'block' : 'none';\n",
              "    })();\n",
              "  </script>\n",
              "</div>\n",
              "\n",
              "    </div>\n",
              "  </div>\n"
            ],
            "application/vnd.google.colaboratory.intrinsic+json": {
              "type": "dataframe",
              "variable_name": "dataframe",
              "summary": "{\n  \"name\": \"dataframe\",\n  \"rows\": 1999,\n  \"fields\": [\n    {\n      \"column\": \"Unnamed: 0\",\n      \"properties\": {\n        \"dtype\": \"number\",\n        \"std\": 581.8428940004334,\n        \"min\": 0.0,\n        \"max\": 1998.0,\n        \"num_unique_values\": 1919,\n        \"samples\": [\n          1616.0,\n          1450.0,\n          670.0\n        ],\n        \"semantic_type\": \"\",\n        \"description\": \"\"\n      }\n    },\n    {\n      \"column\": \"Atomic Radius(Atomic unit)\",\n      \"properties\": {\n        \"dtype\": \"number\",\n        \"std\": 0.09766459318577601,\n        \"min\": 1.06,\n        \"max\": 1.6,\n        \"num_unique_values\": 48,\n        \"samples\": [\n          1.39,\n          1.47,\n          1.45\n        ],\n        \"semantic_type\": \"\",\n        \"description\": \"\"\n      }\n    },\n    {\n      \"column\": \"Expansion Coefficient\",\n      \"properties\": {\n        \"dtype\": \"number\",\n        \"std\": 0.0029384628213977144,\n        \"min\": 0.0,\n        \"max\": 0.015,\n        \"num_unique_values\": 16,\n        \"samples\": [\n          0.0,\n          0.006,\n          0.003\n        ],\n        \"semantic_type\": \"\",\n        \"description\": \"\"\n      }\n    },\n    {\n      \"column\": \"Electron Affinity(-ive)\",\n      \"properties\": {\n        \"dtype\": \"number\",\n        \"std\": 16.779207922893853,\n        \"min\": 12.0,\n        \"max\": 86.0,\n        \"num_unique_values\": 73,\n        \"samples\": [\n          29.0,\n          76.0,\n          20.0\n        ],\n        \"semantic_type\": \"\",\n        \"description\": \"\"\n      }\n    },\n    {\n      \"column\": \"Conductivity\",\n      \"properties\": {\n        \"dtype\": \"number\",\n        \"std\": 16.210284591776958,\n        \"min\": 0.0,\n        \"max\": 187.59,\n        \"num_unique_values\": 955,\n        \"samples\": [\n          1.84,\n          8.73,\n          11.4\n        ],\n        \"semantic_type\": \"\",\n        \"description\": \"\"\n      }\n    },\n    {\n      \"column\": \"Yield Strength\",\n      \"properties\": {\n        \"dtype\": \"number\",\n        \"std\": 366.24929071629316,\n        \"min\": 3.451986755,\n        \"max\": 3826.644295,\n        \"num_unique_values\": 1830,\n        \"samples\": [\n          67.61764706,\n          92.76595745,\n          654.8210526\n        ],\n        \"semantic_type\": \"\",\n        \"description\": \"\"\n      }\n    },\n    {\n      \"column\": \"Outcome\",\n      \"properties\": {\n        \"dtype\": \"number\",\n        \"std\": 0.5840807022319547,\n        \"min\": 1.0,\n        \"max\": 3.0,\n        \"num_unique_values\": 3,\n        \"samples\": [\n          2.0,\n          1.0,\n          3.0\n        ],\n        \"semantic_type\": \"\",\n        \"description\": \"\"\n      }\n    }\n  ]\n}"
            }
          },
          "metadata": {},
          "execution_count": 22
        }
      ]
    },
    {
      "cell_type": "code",
      "source": [
        "dataframe.info()"
      ],
      "metadata": {
        "id": "kv-VbX5P4-bg",
        "outputId": "d4ba8569-025f-4fb8-d6a9-7c791ece0f15",
        "colab": {
          "base_uri": "https://localhost:8080/"
        }
      },
      "execution_count": 23,
      "outputs": [
        {
          "output_type": "stream",
          "name": "stdout",
          "text": [
            "<class 'pandas.core.frame.DataFrame'>\n",
            "RangeIndex: 1999 entries, 0 to 1998\n",
            "Data columns (total 7 columns):\n",
            " #   Column                      Non-Null Count  Dtype  \n",
            "---  ------                      --------------  -----  \n",
            " 0   Unnamed: 0                  1919 non-null   float64\n",
            " 1   Atomic Radius(Atomic unit)  1919 non-null   float64\n",
            " 2   Expansion Coefficient       1919 non-null   float64\n",
            " 3   Electron Affinity(-ive)     1919 non-null   float64\n",
            " 4   Conductivity                1919 non-null   float64\n",
            " 5   Yield Strength              1919 non-null   float64\n",
            " 6   Outcome                     1919 non-null   float64\n",
            "dtypes: float64(7)\n",
            "memory usage: 109.4 KB\n"
          ]
        }
      ]
    },
    {
      "cell_type": "code",
      "source": [
        "dataframe.isnull().any().any()\n",
        "dataframe.isnull().sum().sum()"
      ],
      "metadata": {
        "id": "5_uMlaBB5-Bi",
        "outputId": "63f2425e-3d1b-4740-eb85-4e3158661bc9",
        "colab": {
          "base_uri": "https://localhost:8080/"
        }
      },
      "execution_count": 24,
      "outputs": [
        {
          "output_type": "execute_result",
          "data": {
            "text/plain": [
              "560"
            ]
          },
          "metadata": {},
          "execution_count": 24
        }
      ]
    },
    {
      "cell_type": "code",
      "source": [
        "dataframe.dropna(inplace = True)"
      ],
      "metadata": {
        "id": "FGsaimBZ6lkF"
      },
      "execution_count": 25,
      "outputs": []
    },
    {
      "cell_type": "code",
      "source": [
        "dataset = dataframe.values\n",
        "data = dataset[:,1:6].astype(float)\n",
        "labels = dataset[:,6]"
      ],
      "metadata": {
        "id": "iI-xErKT5Bjb"
      },
      "execution_count": 26,
      "outputs": []
    },
    {
      "cell_type": "code",
      "source": [
        "labels = labels.astype(int)"
      ],
      "metadata": {
        "id": "IOulUAur9u5p"
      },
      "execution_count": 27,
      "outputs": []
    },
    {
      "cell_type": "code",
      "source": [
        "print (labels)"
      ],
      "metadata": {
        "id": "BD5BrmrBx59P",
        "outputId": "08cc72b3-3cc9-451b-a576-ed052b941730",
        "colab": {
          "base_uri": "https://localhost:8080/"
        }
      },
      "execution_count": 28,
      "outputs": [
        {
          "output_type": "stream",
          "name": "stdout",
          "text": [
            "[2 1 1 ... 1 1 1]\n"
          ]
        }
      ]
    },
    {
      "cell_type": "code",
      "source": [
        "(trainData, testData, trainLabels, testLabels) = train_test_split(np.array(data),\n",
        "\tnp.array(labels), test_size=0.25, random_state=42)"
      ],
      "metadata": {
        "id": "LLvfcJmT5OF2"
      },
      "execution_count": 29,
      "outputs": []
    },
    {
      "cell_type": "code",
      "source": [
        "model = SVC(kernel=\"linear\",C=1)\n",
        "model.fit(trainData, trainLabels)"
      ],
      "metadata": {
        "id": "64fyHI6E5jm0",
        "outputId": "b78ba580-77c8-4a47-ccee-cc678c7ec145",
        "colab": {
          "base_uri": "https://localhost:8080/",
          "height": 74
        }
      },
      "execution_count": 30,
      "outputs": [
        {
          "output_type": "execute_result",
          "data": {
            "text/plain": [
              "SVC(C=1, kernel='linear')"
            ],
            "text/html": [
              "<style>#sk-container-id-2 {color: black;background-color: white;}#sk-container-id-2 pre{padding: 0;}#sk-container-id-2 div.sk-toggleable {background-color: white;}#sk-container-id-2 label.sk-toggleable__label {cursor: pointer;display: block;width: 100%;margin-bottom: 0;padding: 0.3em;box-sizing: border-box;text-align: center;}#sk-container-id-2 label.sk-toggleable__label-arrow:before {content: \"▸\";float: left;margin-right: 0.25em;color: #696969;}#sk-container-id-2 label.sk-toggleable__label-arrow:hover:before {color: black;}#sk-container-id-2 div.sk-estimator:hover label.sk-toggleable__label-arrow:before {color: black;}#sk-container-id-2 div.sk-toggleable__content {max-height: 0;max-width: 0;overflow: hidden;text-align: left;background-color: #f0f8ff;}#sk-container-id-2 div.sk-toggleable__content pre {margin: 0.2em;color: black;border-radius: 0.25em;background-color: #f0f8ff;}#sk-container-id-2 input.sk-toggleable__control:checked~div.sk-toggleable__content {max-height: 200px;max-width: 100%;overflow: auto;}#sk-container-id-2 input.sk-toggleable__control:checked~label.sk-toggleable__label-arrow:before {content: \"▾\";}#sk-container-id-2 div.sk-estimator input.sk-toggleable__control:checked~label.sk-toggleable__label {background-color: #d4ebff;}#sk-container-id-2 div.sk-label input.sk-toggleable__control:checked~label.sk-toggleable__label {background-color: #d4ebff;}#sk-container-id-2 input.sk-hidden--visually {border: 0;clip: rect(1px 1px 1px 1px);clip: rect(1px, 1px, 1px, 1px);height: 1px;margin: -1px;overflow: hidden;padding: 0;position: absolute;width: 1px;}#sk-container-id-2 div.sk-estimator {font-family: monospace;background-color: #f0f8ff;border: 1px dotted black;border-radius: 0.25em;box-sizing: border-box;margin-bottom: 0.5em;}#sk-container-id-2 div.sk-estimator:hover {background-color: #d4ebff;}#sk-container-id-2 div.sk-parallel-item::after {content: \"\";width: 100%;border-bottom: 1px solid gray;flex-grow: 1;}#sk-container-id-2 div.sk-label:hover label.sk-toggleable__label {background-color: #d4ebff;}#sk-container-id-2 div.sk-serial::before {content: \"\";position: absolute;border-left: 1px solid gray;box-sizing: border-box;top: 0;bottom: 0;left: 50%;z-index: 0;}#sk-container-id-2 div.sk-serial {display: flex;flex-direction: column;align-items: center;background-color: white;padding-right: 0.2em;padding-left: 0.2em;position: relative;}#sk-container-id-2 div.sk-item {position: relative;z-index: 1;}#sk-container-id-2 div.sk-parallel {display: flex;align-items: stretch;justify-content: center;background-color: white;position: relative;}#sk-container-id-2 div.sk-item::before, #sk-container-id-2 div.sk-parallel-item::before {content: \"\";position: absolute;border-left: 1px solid gray;box-sizing: border-box;top: 0;bottom: 0;left: 50%;z-index: -1;}#sk-container-id-2 div.sk-parallel-item {display: flex;flex-direction: column;z-index: 1;position: relative;background-color: white;}#sk-container-id-2 div.sk-parallel-item:first-child::after {align-self: flex-end;width: 50%;}#sk-container-id-2 div.sk-parallel-item:last-child::after {align-self: flex-start;width: 50%;}#sk-container-id-2 div.sk-parallel-item:only-child::after {width: 0;}#sk-container-id-2 div.sk-dashed-wrapped {border: 1px dashed gray;margin: 0 0.4em 0.5em 0.4em;box-sizing: border-box;padding-bottom: 0.4em;background-color: white;}#sk-container-id-2 div.sk-label label {font-family: monospace;font-weight: bold;display: inline-block;line-height: 1.2em;}#sk-container-id-2 div.sk-label-container {text-align: center;}#sk-container-id-2 div.sk-container {/* jupyter's `normalize.less` sets `[hidden] { display: none; }` but bootstrap.min.css set `[hidden] { display: none !important; }` so we also need the `!important` here to be able to override the default hidden behavior on the sphinx rendered scikit-learn.org. See: https://github.com/scikit-learn/scikit-learn/issues/21755 */display: inline-block !important;position: relative;}#sk-container-id-2 div.sk-text-repr-fallback {display: none;}</style><div id=\"sk-container-id-2\" class=\"sk-top-container\"><div class=\"sk-text-repr-fallback\"><pre>SVC(C=1, kernel=&#x27;linear&#x27;)</pre><b>In a Jupyter environment, please rerun this cell to show the HTML representation or trust the notebook. <br />On GitHub, the HTML representation is unable to render, please try loading this page with nbviewer.org.</b></div><div class=\"sk-container\" hidden><div class=\"sk-item\"><div class=\"sk-estimator sk-toggleable\"><input class=\"sk-toggleable__control sk-hidden--visually\" id=\"sk-estimator-id-2\" type=\"checkbox\" checked><label for=\"sk-estimator-id-2\" class=\"sk-toggleable__label sk-toggleable__label-arrow\">SVC</label><div class=\"sk-toggleable__content\"><pre>SVC(C=1, kernel=&#x27;linear&#x27;)</pre></div></div></div></div></div>"
            ]
          },
          "metadata": {},
          "execution_count": 30
        }
      ]
    },
    {
      "cell_type": "code",
      "source": [
        "print(model.score(trainData, trainLabels))"
      ],
      "metadata": {
        "id": "Uq40TqTs63Cs",
        "outputId": "18ab9158-1024-4d5c-88d9-9ea1745106e5",
        "colab": {
          "base_uri": "https://localhost:8080/"
        }
      },
      "execution_count": 31,
      "outputs": [
        {
          "output_type": "stream",
          "name": "stdout",
          "text": [
            "0.8408617095205003\n"
          ]
        }
      ]
    },
    {
      "cell_type": "code",
      "source": [
        "print(model.score(testData, testLabels))"
      ],
      "metadata": {
        "id": "erySd39-65Pr",
        "outputId": "f77fb879-2fcd-431f-ed99-feef9d4e973e",
        "colab": {
          "base_uri": "https://localhost:8080/"
        }
      },
      "execution_count": 32,
      "outputs": [
        {
          "output_type": "stream",
          "name": "stdout",
          "text": [
            "0.8104166666666667\n"
          ]
        }
      ]
    },
    {
      "cell_type": "code",
      "source": [
        "predictions = model.predict(testData)\n",
        "\n",
        "print(classification_report(testLabels, predictions))"
      ],
      "metadata": {
        "id": "xGHf5yH-67DN",
        "outputId": "6882c213-3c1b-4ca0-a8aa-c7bc7174f397",
        "colab": {
          "base_uri": "https://localhost:8080/"
        }
      },
      "execution_count": 33,
      "outputs": [
        {
          "output_type": "stream",
          "name": "stdout",
          "text": [
            "              precision    recall  f1-score   support\n",
            "\n",
            "           1       0.82      0.99      0.90       373\n",
            "           2       0.56      0.14      0.22        71\n",
            "           3       0.73      0.31      0.43        36\n",
            "\n",
            "    accuracy                           0.81       480\n",
            "   macro avg       0.70      0.48      0.52       480\n",
            "weighted avg       0.78      0.81      0.76       480\n",
            "\n"
          ]
        }
      ]
    },
    {
      "cell_type": "code",
      "source": [
        "#weights='distance'\n",
        "model = KNeighborsClassifier(n_neighbors=9,weights='uniform')\n",
        "model.fit(trainData, trainLabels)\n",
        "\n",
        "print(model.score(trainData, trainLabels))\n",
        "predictions = model.predict(testData)\n",
        "\n",
        "print(classification_report(testLabels, predictions))\n"
      ],
      "metadata": {
        "id": "oTqG_kKB7Z_k",
        "outputId": "7eb2f3b3-572e-4f2a-d514-f170505c9ad1",
        "colab": {
          "base_uri": "https://localhost:8080/"
        }
      },
      "execution_count": 34,
      "outputs": [
        {
          "output_type": "stream",
          "name": "stdout",
          "text": [
            "0.8672689367616401\n",
            "              precision    recall  f1-score   support\n",
            "\n",
            "           1       0.87      0.95      0.91       373\n",
            "           2       0.64      0.48      0.55        71\n",
            "           3       0.60      0.33      0.43        36\n",
            "\n",
            "    accuracy                           0.83       480\n",
            "   macro avg       0.70      0.59      0.63       480\n",
            "weighted avg       0.81      0.83      0.82       480\n",
            "\n"
          ]
        }
      ]
    },
    {
      "cell_type": "code",
      "source": [
        "#penality = l1,l2, elasticnet\n",
        "#solver = liblinear, sag, saga, lbfgs, newton-cg\n",
        "#max-iter = 100\n",
        "\n",
        "model = LogisticRegression(max_iter=150,solver = 'liblinear')\n",
        "model.fit(trainData, trainLabels)\n",
        "\n",
        "print(model.score(trainData, trainLabels))\n",
        "predictions = model.predict(testData)\n",
        "\n",
        "print(classification_report(testLabels, predictions))"
      ],
      "metadata": {
        "id": "H0k1r-Ow7qnL",
        "outputId": "d52dc91c-53b0-44ed-af53-44c5200e403f",
        "colab": {
          "base_uri": "https://localhost:8080/"
        }
      },
      "execution_count": 35,
      "outputs": [
        {
          "output_type": "stream",
          "name": "stdout",
          "text": [
            "0.8394718554551772\n",
            "              precision    recall  f1-score   support\n",
            "\n",
            "           1       0.83      0.98      0.90       373\n",
            "           2       0.55      0.15      0.24        71\n",
            "           3       0.74      0.39      0.51        36\n",
            "\n",
            "    accuracy                           0.81       480\n",
            "   macro avg       0.70      0.51      0.55       480\n",
            "weighted avg       0.78      0.81      0.77       480\n",
            "\n"
          ]
        }
      ]
    },
    {
      "cell_type": "code",
      "source": [
        "\n",
        "#splitter = best, random | max_features = int, auto, log, none | max_depth = int\n",
        "model = DecisionTreeClassifier(random_state=42)#,criterion='gini',max_features=2, max_depth = 15)\n",
        "model.fit(trainData, trainLabels)\n",
        "\n",
        "print(model.score(trainData, trainLabels))\n",
        "predictions = model.predict(testData)\n",
        "\n",
        "print(classification_report(testLabels, predictions))"
      ],
      "metadata": {
        "id": "yunYnEK-8RuX",
        "outputId": "e1ef7a8c-5fde-4680-dab2-2e1b6bf6f1bc",
        "colab": {
          "base_uri": "https://localhost:8080/"
        }
      },
      "execution_count": 36,
      "outputs": [
        {
          "output_type": "stream",
          "name": "stdout",
          "text": [
            "0.9986101459346769\n",
            "              precision    recall  f1-score   support\n",
            "\n",
            "           1       0.91      0.94      0.93       373\n",
            "           2       0.66      0.56      0.61        71\n",
            "           3       0.68      0.64      0.66        36\n",
            "\n",
            "    accuracy                           0.86       480\n",
            "   macro avg       0.75      0.72      0.73       480\n",
            "weighted avg       0.86      0.86      0.86       480\n",
            "\n"
          ]
        }
      ]
    },
    {
      "cell_type": "code",
      "source": [
        "#splitter = best, random | max_features = int, auto, log, none | max_depth = int\n",
        "model = RandomForestClassifier(n_estimators=30, random_state=42)#,criterion='gini',max_depth=10)\n",
        "model.fit(trainData, trainLabels)\n",
        "\n",
        "print(model.score(trainData, trainLabels))\n",
        "predictions = model.predict(testData)\n",
        "\n",
        "print(classification_report(testLabels, predictions))"
      ],
      "metadata": {
        "id": "NKRp2-6b794H",
        "outputId": "fdf435bc-44a9-4ed0-ef1e-6c458b8fbf37",
        "colab": {
          "base_uri": "https://localhost:8080/"
        }
      },
      "execution_count": 37,
      "outputs": [
        {
          "output_type": "stream",
          "name": "stdout",
          "text": [
            "0.9979152189020153\n",
            "              precision    recall  f1-score   support\n",
            "\n",
            "           1       0.91      0.98      0.94       373\n",
            "           2       0.78      0.59      0.67        71\n",
            "           3       0.96      0.64      0.77        36\n",
            "\n",
            "    accuracy                           0.90       480\n",
            "   macro avg       0.88      0.74      0.79       480\n",
            "weighted avg       0.89      0.90      0.89       480\n",
            "\n"
          ]
        }
      ]
    },
    {
      "cell_type": "code",
      "source": [
        "model = BaggingClassifier(n_estimators=10)\n",
        "model.fit(trainData, trainLabels)\n",
        "\n",
        "print(model.score(trainData, trainLabels))\n",
        "predictions = model.predict(testData)\n",
        "\n",
        "print(classification_report(testLabels, predictions))"
      ],
      "metadata": {
        "id": "gAl2tmTjDoE-",
        "outputId": "1bae49be-a33d-4c2a-f886-6d028c92fdcd",
        "colab": {
          "base_uri": "https://localhost:8080/"
        }
      },
      "execution_count": 38,
      "outputs": [
        {
          "output_type": "stream",
          "name": "stdout",
          "text": [
            "0.9861014593467686\n",
            "              precision    recall  f1-score   support\n",
            "\n",
            "           1       0.91      0.98      0.94       373\n",
            "           2       0.76      0.52      0.62        71\n",
            "           3       0.81      0.69      0.75        36\n",
            "\n",
            "    accuracy                           0.89       480\n",
            "   macro avg       0.82      0.73      0.77       480\n",
            "weighted avg       0.88      0.89      0.88       480\n",
            "\n"
          ]
        }
      ]
    },
    {
      "cell_type": "code",
      "source": [
        "model = AdaBoostClassifier()\n",
        "model.fit(trainData, trainLabels)\n",
        "\n",
        "print(model.score(trainData, trainLabels))\n",
        "predictions = model.predict(testData)\n",
        "\n",
        "print(classification_report(testLabels, predictions))"
      ],
      "metadata": {
        "colab": {
          "base_uri": "https://localhost:8080/"
        },
        "id": "Dz3v7PTn8HKH",
        "outputId": "0fb29c9a-443e-4ada-d9a4-9b3f46ab23a6"
      },
      "execution_count": 39,
      "outputs": [
        {
          "output_type": "stream",
          "name": "stdout",
          "text": [
            "0.8929812369701181\n",
            "              precision    recall  f1-score   support\n",
            "\n",
            "           1       0.91      0.95      0.93       373\n",
            "           2       0.68      0.59      0.63        71\n",
            "           3       0.75      0.58      0.66        36\n",
            "\n",
            "    accuracy                           0.87       480\n",
            "   macro avg       0.78      0.71      0.74       480\n",
            "weighted avg       0.86      0.87      0.86       480\n",
            "\n"
          ]
        }
      ]
    },
    {
      "cell_type": "code",
      "source": [
        "t_trainLabels = trainLabels - 1\n",
        "t_testLabels = testLabels - 1"
      ],
      "metadata": {
        "id": "kfVvHgyA_Isj"
      },
      "execution_count": 40,
      "outputs": []
    },
    {
      "cell_type": "code",
      "source": [
        "model = XGBClassifier()\n",
        "model.fit(trainData, t_trainLabels)\n",
        "\n",
        "print(model.score(trainData, t_trainLabels))\n",
        "predictions = model.predict(testData)\n",
        "\n",
        "print(classification_report(t_testLabels, predictions))\n"
      ],
      "metadata": {
        "colab": {
          "base_uri": "https://localhost:8080/"
        },
        "id": "HR6RW7TX9ck_",
        "outputId": "3946b1ae-91f7-4012-d5d7-e8b117e32e43"
      },
      "execution_count": 41,
      "outputs": [
        {
          "output_type": "stream",
          "name": "stdout",
          "text": [
            "0.9986101459346769\n",
            "              precision    recall  f1-score   support\n",
            "\n",
            "           0       0.92      0.98      0.95       373\n",
            "           1       0.77      0.58      0.66        71\n",
            "           2       0.90      0.72      0.80        36\n",
            "\n",
            "    accuracy                           0.90       480\n",
            "   macro avg       0.86      0.76      0.80       480\n",
            "weighted avg       0.89      0.90      0.89       480\n",
            "\n"
          ]
        }
      ]
    },
    {
      "cell_type": "code",
      "source": [
        "from imblearn.pipeline import Pipeline\n",
        "from imblearn.over_sampling import SMOTE\n",
        "from imblearn.over_sampling import BorderlineSMOTE\n",
        "from imblearn.over_sampling import SVMSMOTE\n",
        "from imblearn.over_sampling import ADASYN\n",
        "from matplotlib import pyplot\n",
        "from collections import Counter\n"
      ],
      "metadata": {
        "id": "mhMOR13QGLJn"
      },
      "execution_count": 42,
      "outputs": []
    },
    {
      "cell_type": "code",
      "source": [
        "print('Original dataset shape:', Counter(trainLabels))"
      ],
      "metadata": {
        "id": "APT7Ksd4HddT",
        "outputId": "6daf4477-cb9d-4ffe-e483-86484acfd1f5",
        "colab": {
          "base_uri": "https://localhost:8080/"
        }
      },
      "execution_count": 43,
      "outputs": [
        {
          "output_type": "stream",
          "name": "stdout",
          "text": [
            "Original dataset shape: Counter({1: 1171, 2: 165, 3: 103})\n"
          ]
        }
      ]
    },
    {
      "cell_type": "code",
      "source": [
        "sm = SMOTE(random_state=0, sampling_strategy={1:1171, 2:260, 3:150})"
      ],
      "metadata": {
        "id": "M6UQuZvSGPBX"
      },
      "execution_count": 44,
      "outputs": []
    },
    {
      "cell_type": "code",
      "source": [
        "trainData_resampled, trainLabels_resampled = sm.fit_resample(trainData, trainLabels)"
      ],
      "metadata": {
        "id": "e6kXFsMzHEj6"
      },
      "execution_count": 45,
      "outputs": []
    },
    {
      "cell_type": "code",
      "source": [
        "print('Original dataset shape:', Counter(trainLabels))\n",
        "print('Resampled dataset shape:', Counter(trainLabels_resampled))"
      ],
      "metadata": {
        "id": "Vw0G1TVYFp7l",
        "outputId": "536236a6-21df-47a7-87c1-f6938021132f",
        "colab": {
          "base_uri": "https://localhost:8080/"
        }
      },
      "execution_count": 46,
      "outputs": [
        {
          "output_type": "stream",
          "name": "stdout",
          "text": [
            "Original dataset shape: Counter({1: 1171, 2: 165, 3: 103})\n",
            "Resampled dataset shape: Counter({1: 1171, 2: 260, 3: 150})\n"
          ]
        }
      ]
    },
    {
      "cell_type": "code",
      "source": [
        "model = AdaBoostClassifier()\n",
        "model.fit(trainData_resampled, trainLabels_resampled)\n",
        "\n",
        "print(model.score(trainData_resampled, trainLabels_resampled))\n",
        "predictions = model.predict(testData)\n",
        "\n",
        "print(classification_report(testLabels, predictions))"
      ],
      "metadata": {
        "id": "gLVOqU2jHm7d",
        "outputId": "e6d2e519-61cd-4bc2-a95f-5e74c3721ee5",
        "colab": {
          "base_uri": "https://localhost:8080/"
        }
      },
      "execution_count": 47,
      "outputs": [
        {
          "output_type": "stream",
          "name": "stdout",
          "text": [
            "0.8545224541429475\n",
            "              precision    recall  f1-score   support\n",
            "\n",
            "           1       0.92      0.93      0.92       373\n",
            "           2       0.65      0.65      0.65        71\n",
            "           3       0.76      0.61      0.68        36\n",
            "\n",
            "    accuracy                           0.87       480\n",
            "   macro avg       0.77      0.73      0.75       480\n",
            "weighted avg       0.86      0.87      0.86       480\n",
            "\n"
          ]
        }
      ]
    },
    {
      "cell_type": "code",
      "source": [
        "t_trainLabels = trainLabels_resampled - 1\n",
        "\n",
        "model = XGBClassifier()\n",
        "model.fit(trainData_resampled, t_trainLabels)\n",
        "\n",
        "print(model.score(trainData_resampled, t_trainLabels))\n",
        "predictions = model.predict(testData)\n",
        "\n",
        "print(classification_report(t_testLabels, predictions))"
      ],
      "metadata": {
        "id": "CNWFsHgJITWP",
        "outputId": "81bf32e5-0ce2-4b49-b280-c7efadc17f3a",
        "colab": {
          "base_uri": "https://localhost:8080/"
        }
      },
      "execution_count": 48,
      "outputs": [
        {
          "output_type": "stream",
          "name": "stdout",
          "text": [
            "0.9987349778621126\n",
            "              precision    recall  f1-score   support\n",
            "\n",
            "           0       0.93      0.98      0.95       373\n",
            "           1       0.79      0.65      0.71        71\n",
            "           2       0.90      0.72      0.80        36\n",
            "\n",
            "    accuracy                           0.91       480\n",
            "   macro avg       0.87      0.78      0.82       480\n",
            "weighted avg       0.90      0.91      0.90       480\n",
            "\n"
          ]
        }
      ]
    },
    {
      "cell_type": "code",
      "source": [
        "sm = BorderlineSMOTE(random_state=0, sampling_strategy={1:1171, 2:260, 3:150})"
      ],
      "metadata": {
        "id": "VbknUfWWJ-Bs"
      },
      "execution_count": 49,
      "outputs": []
    },
    {
      "cell_type": "code",
      "source": [
        "print('Original dataset shape:', Counter(trainLabels))\n",
        "print('Resampled dataset shape:', Counter(trainLabels_resampled))"
      ],
      "metadata": {
        "id": "s6U12LMzKEQx",
        "outputId": "7e913af6-407b-4734-a577-920733df9295",
        "colab": {
          "base_uri": "https://localhost:8080/"
        }
      },
      "execution_count": 50,
      "outputs": [
        {
          "output_type": "stream",
          "name": "stdout",
          "text": [
            "Original dataset shape: Counter({1: 1171, 2: 165, 3: 103})\n",
            "Resampled dataset shape: Counter({1: 1171, 2: 260, 3: 150})\n"
          ]
        }
      ]
    },
    {
      "cell_type": "code",
      "source": [
        "t_trainLabels = trainLabels_resampled - 1\n",
        "\n",
        "model = XGBClassifier()\n",
        "model.fit(trainData_resampled, t_trainLabels)\n",
        "\n",
        "print(model.score(trainData_resampled, t_trainLabels))\n",
        "predictions = model.predict(testData)\n",
        "\n",
        "print(classification_report(t_testLabels, predictions))"
      ],
      "metadata": {
        "id": "YTNKTCutKEQ9",
        "outputId": "da7a61cf-119f-4577-9efa-b49e7b58ed67",
        "colab": {
          "base_uri": "https://localhost:8080/"
        }
      },
      "execution_count": 51,
      "outputs": [
        {
          "output_type": "stream",
          "name": "stdout",
          "text": [
            "0.9987349778621126\n",
            "              precision    recall  f1-score   support\n",
            "\n",
            "           0       0.93      0.98      0.95       373\n",
            "           1       0.79      0.65      0.71        71\n",
            "           2       0.90      0.72      0.80        36\n",
            "\n",
            "    accuracy                           0.91       480\n",
            "   macro avg       0.87      0.78      0.82       480\n",
            "weighted avg       0.90      0.91      0.90       480\n",
            "\n"
          ]
        }
      ]
    },
    {
      "cell_type": "code",
      "source": [],
      "metadata": {
        "id": "a955KN-0KRez"
      },
      "execution_count": null,
      "outputs": []
    },
    {
      "cell_type": "code",
      "source": [
        "sm = SVMSMOTE(random_state=0, sampling_strategy={1:1171, 2:260, 3:150})"
      ],
      "metadata": {
        "id": "jZS5s5mYK6FM"
      },
      "execution_count": 52,
      "outputs": []
    },
    {
      "cell_type": "code",
      "source": [
        "print('Original dataset shape:', Counter(trainLabels))\n",
        "print('Resampled dataset shape:', Counter(trainLabels_resampled))"
      ],
      "metadata": {
        "id": "0vgfWWbbK6FM",
        "outputId": "1a7bb434-78fd-4584-db8a-5c5583820b17",
        "colab": {
          "base_uri": "https://localhost:8080/"
        }
      },
      "execution_count": 53,
      "outputs": [
        {
          "output_type": "stream",
          "name": "stdout",
          "text": [
            "Original dataset shape: Counter({1: 1171, 2: 165, 3: 103})\n",
            "Resampled dataset shape: Counter({1: 1171, 2: 260, 3: 150})\n"
          ]
        }
      ]
    },
    {
      "cell_type": "code",
      "source": [
        "t_trainLabels = trainLabels_resampled - 1\n",
        "\n",
        "model = XGBClassifier()\n",
        "model.fit(trainData_resampled, t_trainLabels)\n",
        "\n",
        "print(model.score(trainData_resampled, t_trainLabels))\n",
        "predictions = model.predict(testData)\n",
        "\n",
        "print(classification_report(t_testLabels, predictions))"
      ],
      "metadata": {
        "id": "yQD2-sosK6FN",
        "outputId": "a9afc2bc-c45b-4091-c45c-542606f9ab90",
        "colab": {
          "base_uri": "https://localhost:8080/"
        }
      },
      "execution_count": 54,
      "outputs": [
        {
          "output_type": "stream",
          "name": "stdout",
          "text": [
            "0.9987349778621126\n",
            "              precision    recall  f1-score   support\n",
            "\n",
            "           0       0.93      0.98      0.95       373\n",
            "           1       0.79      0.65      0.71        71\n",
            "           2       0.90      0.72      0.80        36\n",
            "\n",
            "    accuracy                           0.91       480\n",
            "   macro avg       0.87      0.78      0.82       480\n",
            "weighted avg       0.90      0.91      0.90       480\n",
            "\n"
          ]
        }
      ]
    },
    {
      "cell_type": "code",
      "source": [
        "sm = ADASYN(random_state=0, sampling_strategy={1:1171, 2:260, 3:150})"
      ],
      "metadata": {
        "id": "YCRUnhNELKV8"
      },
      "execution_count": 55,
      "outputs": []
    },
    {
      "cell_type": "code",
      "source": [
        "trainData_resampled, trainLabels_resampled = sm.fit_resample(trainData, trainLabels)"
      ],
      "metadata": {
        "id": "LlrfPgVs0PCs"
      },
      "execution_count": 58,
      "outputs": []
    },
    {
      "cell_type": "code",
      "source": [
        "print('Original dataset shape:', Counter(trainLabels))\n",
        "print('Resampled dataset shape:', Counter(trainLabels_resampled))"
      ],
      "metadata": {
        "id": "Q0E7-bYrLKWI",
        "outputId": "f241f617-5f90-49fc-d55a-66671a76a79c",
        "colab": {
          "base_uri": "https://localhost:8080/"
        }
      },
      "execution_count": 59,
      "outputs": [
        {
          "output_type": "stream",
          "name": "stdout",
          "text": [
            "Original dataset shape: Counter({1: 1171, 2: 165, 3: 103})\n",
            "Resampled dataset shape: Counter({1: 1171, 2: 257, 3: 152})\n"
          ]
        }
      ]
    },
    {
      "cell_type": "code",
      "source": [
        "t_trainLabels = trainLabels_resampled - 1\n",
        "\n",
        "model = XGBClassifier()\n",
        "model.fit(trainData_resampled, t_trainLabels)\n",
        "\n",
        "print(model.score(trainData_resampled, t_trainLabels))\n",
        "predictions = model.predict(testData)\n",
        "\n",
        "print(classification_report(t_testLabels, predictions))"
      ],
      "metadata": {
        "id": "j-KfdGdjLKWJ",
        "outputId": "4c89fb81-7757-416a-dbd0-0bb27ce1bfa5",
        "colab": {
          "base_uri": "https://localhost:8080/"
        }
      },
      "execution_count": 60,
      "outputs": [
        {
          "output_type": "stream",
          "name": "stdout",
          "text": [
            "0.9987341772151899\n",
            "              precision    recall  f1-score   support\n",
            "\n",
            "           0       0.92      0.96      0.94       373\n",
            "           1       0.70      0.62      0.66        71\n",
            "           2       0.83      0.67      0.74        36\n",
            "\n",
            "    accuracy                           0.89       480\n",
            "   macro avg       0.82      0.75      0.78       480\n",
            "weighted avg       0.88      0.89      0.88       480\n",
            "\n"
          ]
        }
      ]
    }
  ]
}